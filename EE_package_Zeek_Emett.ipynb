{
  "nbformat": 4,
  "nbformat_minor": 0,
  "metadata": {
    "colab": {
      "provenance": [],
      "authorship_tag": "ABX9TyOzLqXr3Gtb8l8J3dIqEdxF",
      "include_colab_link": true
    },
    "kernelspec": {
      "name": "python3",
      "display_name": "Python 3"
    },
    "language_info": {
      "name": "python"
    }
  },
  "cells": [
    {
      "cell_type": "markdown",
      "metadata": {
        "id": "view-in-github",
        "colab_type": "text"
      },
      "source": [
        "<a href=\"https://colab.research.google.com/github/Marccrampe/Biodiversity_Mapping/blob/main/EE_package_Zeek_Emett.ipynb\" target=\"_parent\"><img src=\"https://colab.research.google.com/assets/colab-badge.svg\" alt=\"Open In Colab\"/></a>"
      ]
    },
    {
      "cell_type": "code",
      "source": [
        "from google.colab import drive\n",
        "drive.mount('/content/drive')"
      ],
      "metadata": {
        "colab": {
          "base_uri": "https://localhost:8080/"
        },
        "id": "y9iDexcN2WTq",
        "outputId": "253bb123-5cbc-4813-b837-093ece7c697a"
      },
      "execution_count": null,
      "outputs": [
        {
          "output_type": "stream",
          "name": "stdout",
          "text": [
            "Mounted at /content/drive\n"
          ]
        }
      ]
    },
    {
      "cell_type": "code",
      "source": [
        "!pip install -r  /content/drive/MyDrive/Rasterdiv_project/requirements.txt"
      ],
      "metadata": {
        "colab": {
          "base_uri": "https://localhost:8080/"
        },
        "id": "pdPt-y-xktJG",
        "outputId": "d9349c2f-fe2d-4821-9299-7ac123936f93"
      },
      "execution_count": null,
      "outputs": [
        {
          "output_type": "stream",
          "name": "stdout",
          "text": [
            "Requirement already satisfied: earthengine-api in /usr/local/lib/python3.11/dist-packages (from -r /content/drive/MyDrive/Rasterdiv_project/requirements.txt (line 1)) (1.5.7)\n",
            "Requirement already satisfied: google-cloud-storage in /usr/local/lib/python3.11/dist-packages (from -r /content/drive/MyDrive/Rasterdiv_project/requirements.txt (line 2)) (2.19.0)\n",
            "Collecting numpy<2 (from -r /content/drive/MyDrive/Rasterdiv_project/requirements.txt (line 3))\n",
            "  Downloading numpy-1.26.4-cp311-cp311-manylinux_2_17_x86_64.manylinux2014_x86_64.whl.metadata (61 kB)\n",
            "\u001b[2K     \u001b[90m━━━━━━━━━━━━━━━━━━━━━━━━━━━━━━━━━━━━━━━━\u001b[0m \u001b[32m61.0/61.0 kB\u001b[0m \u001b[31m2.4 MB/s\u001b[0m eta \u001b[36m0:00:00\u001b[0m\n",
            "\u001b[?25hRequirement already satisfied: rasterio in /usr/local/lib/python3.11/dist-packages (from -r /content/drive/MyDrive/Rasterdiv_project/requirements.txt (line 4)) (1.4.3)\n",
            "Requirement already satisfied: requests in /usr/local/lib/python3.11/dist-packages (from -r /content/drive/MyDrive/Rasterdiv_project/requirements.txt (line 5)) (2.32.3)\n",
            "Requirement already satisfied: google-api-python-client>=1.12.1 in /usr/local/lib/python3.11/dist-packages (from earthengine-api->-r /content/drive/MyDrive/Rasterdiv_project/requirements.txt (line 1)) (2.164.0)\n",
            "Requirement already satisfied: google-auth>=1.4.1 in /usr/local/lib/python3.11/dist-packages (from earthengine-api->-r /content/drive/MyDrive/Rasterdiv_project/requirements.txt (line 1)) (2.38.0)\n",
            "Requirement already satisfied: google-auth-httplib2>=0.0.3 in /usr/local/lib/python3.11/dist-packages (from earthengine-api->-r /content/drive/MyDrive/Rasterdiv_project/requirements.txt (line 1)) (0.2.0)\n",
            "Requirement already satisfied: httplib2<1dev,>=0.9.2 in /usr/local/lib/python3.11/dist-packages (from earthengine-api->-r /content/drive/MyDrive/Rasterdiv_project/requirements.txt (line 1)) (0.22.0)\n",
            "Requirement already satisfied: google-api-core<3.0.0dev,>=2.15.0 in /usr/local/lib/python3.11/dist-packages (from google-cloud-storage->-r /content/drive/MyDrive/Rasterdiv_project/requirements.txt (line 2)) (2.24.2)\n",
            "Requirement already satisfied: google-cloud-core<3.0dev,>=2.3.0 in /usr/local/lib/python3.11/dist-packages (from google-cloud-storage->-r /content/drive/MyDrive/Rasterdiv_project/requirements.txt (line 2)) (2.4.3)\n",
            "Requirement already satisfied: google-resumable-media>=2.7.2 in /usr/local/lib/python3.11/dist-packages (from google-cloud-storage->-r /content/drive/MyDrive/Rasterdiv_project/requirements.txt (line 2)) (2.7.2)\n",
            "Requirement already satisfied: google-crc32c<2.0dev,>=1.0 in /usr/local/lib/python3.11/dist-packages (from google-cloud-storage->-r /content/drive/MyDrive/Rasterdiv_project/requirements.txt (line 2)) (1.7.0)\n",
            "Requirement already satisfied: affine in /usr/local/lib/python3.11/dist-packages (from rasterio->-r /content/drive/MyDrive/Rasterdiv_project/requirements.txt (line 4)) (2.4.0)\n",
            "Requirement already satisfied: attrs in /usr/local/lib/python3.11/dist-packages (from rasterio->-r /content/drive/MyDrive/Rasterdiv_project/requirements.txt (line 4)) (25.3.0)\n",
            "Requirement already satisfied: certifi in /usr/local/lib/python3.11/dist-packages (from rasterio->-r /content/drive/MyDrive/Rasterdiv_project/requirements.txt (line 4)) (2025.1.31)\n",
            "Requirement already satisfied: click>=4.0 in /usr/local/lib/python3.11/dist-packages (from rasterio->-r /content/drive/MyDrive/Rasterdiv_project/requirements.txt (line 4)) (8.1.8)\n",
            "Requirement already satisfied: cligj>=0.5 in /usr/local/lib/python3.11/dist-packages (from rasterio->-r /content/drive/MyDrive/Rasterdiv_project/requirements.txt (line 4)) (0.7.2)\n",
            "Requirement already satisfied: click-plugins in /usr/local/lib/python3.11/dist-packages (from rasterio->-r /content/drive/MyDrive/Rasterdiv_project/requirements.txt (line 4)) (1.1.1)\n",
            "Requirement already satisfied: pyparsing in /usr/local/lib/python3.11/dist-packages (from rasterio->-r /content/drive/MyDrive/Rasterdiv_project/requirements.txt (line 4)) (3.2.1)\n",
            "Requirement already satisfied: charset-normalizer<4,>=2 in /usr/local/lib/python3.11/dist-packages (from requests->-r /content/drive/MyDrive/Rasterdiv_project/requirements.txt (line 5)) (3.4.1)\n",
            "Requirement already satisfied: idna<4,>=2.5 in /usr/local/lib/python3.11/dist-packages (from requests->-r /content/drive/MyDrive/Rasterdiv_project/requirements.txt (line 5)) (3.10)\n",
            "Requirement already satisfied: urllib3<3,>=1.21.1 in /usr/local/lib/python3.11/dist-packages (from requests->-r /content/drive/MyDrive/Rasterdiv_project/requirements.txt (line 5)) (2.3.0)\n",
            "Requirement already satisfied: googleapis-common-protos<2.0.0,>=1.56.2 in /usr/local/lib/python3.11/dist-packages (from google-api-core<3.0.0dev,>=2.15.0->google-cloud-storage->-r /content/drive/MyDrive/Rasterdiv_project/requirements.txt (line 2)) (1.69.2)\n",
            "Requirement already satisfied: protobuf!=3.20.0,!=3.20.1,!=4.21.0,!=4.21.1,!=4.21.2,!=4.21.3,!=4.21.4,!=4.21.5,<7.0.0,>=3.19.5 in /usr/local/lib/python3.11/dist-packages (from google-api-core<3.0.0dev,>=2.15.0->google-cloud-storage->-r /content/drive/MyDrive/Rasterdiv_project/requirements.txt (line 2)) (5.29.3)\n",
            "Requirement already satisfied: proto-plus<2.0.0,>=1.22.3 in /usr/local/lib/python3.11/dist-packages (from google-api-core<3.0.0dev,>=2.15.0->google-cloud-storage->-r /content/drive/MyDrive/Rasterdiv_project/requirements.txt (line 2)) (1.26.1)\n",
            "Requirement already satisfied: uritemplate<5,>=3.0.1 in /usr/local/lib/python3.11/dist-packages (from google-api-python-client>=1.12.1->earthengine-api->-r /content/drive/MyDrive/Rasterdiv_project/requirements.txt (line 1)) (4.1.1)\n",
            "Requirement already satisfied: cachetools<6.0,>=2.0.0 in /usr/local/lib/python3.11/dist-packages (from google-auth>=1.4.1->earthengine-api->-r /content/drive/MyDrive/Rasterdiv_project/requirements.txt (line 1)) (5.5.2)\n",
            "Requirement already satisfied: pyasn1-modules>=0.2.1 in /usr/local/lib/python3.11/dist-packages (from google-auth>=1.4.1->earthengine-api->-r /content/drive/MyDrive/Rasterdiv_project/requirements.txt (line 1)) (0.4.1)\n",
            "Requirement already satisfied: rsa<5,>=3.1.4 in /usr/local/lib/python3.11/dist-packages (from google-auth>=1.4.1->earthengine-api->-r /content/drive/MyDrive/Rasterdiv_project/requirements.txt (line 1)) (4.9)\n",
            "Requirement already satisfied: pyasn1<0.7.0,>=0.4.6 in /usr/local/lib/python3.11/dist-packages (from pyasn1-modules>=0.2.1->google-auth>=1.4.1->earthengine-api->-r /content/drive/MyDrive/Rasterdiv_project/requirements.txt (line 1)) (0.6.1)\n",
            "Downloading numpy-1.26.4-cp311-cp311-manylinux_2_17_x86_64.manylinux2014_x86_64.whl (18.3 MB)\n",
            "\u001b[2K   \u001b[90m━━━━━━━━━━━━━━━━━━━━━━━━━━━━━━━━━━━━━━━━\u001b[0m \u001b[32m18.3/18.3 MB\u001b[0m \u001b[31m85.9 MB/s\u001b[0m eta \u001b[36m0:00:00\u001b[0m\n",
            "\u001b[?25hInstalling collected packages: numpy\n",
            "  Attempting uninstall: numpy\n",
            "    Found existing installation: numpy 2.0.2\n",
            "    Uninstalling numpy-2.0.2:\n",
            "      Successfully uninstalled numpy-2.0.2\n",
            "Successfully installed numpy-1.26.4\n"
          ]
        }
      ]
    },
    {
      "cell_type": "code",
      "source": [
        "import ee\n",
        "import google.auth\n",
        "from google.colab import auth\n",
        "from google.cloud import storage\n",
        "\n",
        "# Authentification\n",
        "auth.authenticate_user()\n",
        "\n",
        "# Charger les credentials\n",
        "credentials, project = google.auth.default()\n",
        "\n",
        "# Configurer Google Cloud Storage\n",
        "client = storage.Client(credentials=credentials, project=project)\n"
      ],
      "metadata": {
        "id": "iXk8z-UqjS84"
      },
      "execution_count": null,
      "outputs": []
    },
    {
      "cell_type": "markdown",
      "source": [
        "We already processed the datacube of sentinel 2 + NDVI and we are trying to implemnt the rasterdiv functions onto it."
      ],
      "metadata": {
        "id": "0NahfT3rJnvn"
      }
    },
    {
      "cell_type": "markdown",
      "source": [
        "SHANON'S ENTHROPY : we apply here the moving window, the shanon entropy formula for each window, and we apply it on the ndvi of the image. You can adapt it to the indices that fits the best the environmental area you analyze"
      ],
      "metadata": {
        "id": "jA_0fee8JLxP"
      }
    },
    {
      "cell_type": "code",
      "source": [
        "!python3 /content/drive/MyDrive/Rasterdiv_project/entropy_pipeline.py \\\n",
        "      --index \"EVI\" \\\n",
        "      --entropy \"renyi_2\" \\\n",
        "      --start \"2023-06-01\" \\\n",
        "      --end \"2023-06-30\" \\\n",
        "      --frequency \"10D\" \\\n",
        "      --geojson \"AOI/AoI_France.json\" \\\n",
        "      --bucket \"gchm-predictions-test\" \\\n",
        "      --input_folder \"rasterdiv_map\" \\\n",
        "      --entropy_folder \"entropy\" \\\n",
        "      --window_size \"3\"\n"
      ],
      "metadata": {
        "colab": {
          "base_uri": "https://localhost:8080/"
        },
        "id": "Krd37Csn3Nvj",
        "outputId": "93d46c5a-de98-48c3-a4ed-fb91f0fcfeaa"
      },
      "execution_count": 34,
      "outputs": [
        {
          "output_type": "stream",
          "name": "stdout",
          "text": [
            "✅ ESA mask loaded.\n",
            "📅 Processing mask for 2023-06-01\n",
            "✅ DW mask loaded for 2023-06-01\n",
            "📅 Processing mask for 2023-06-11\n",
            "✅ DW mask loaded for 2023-06-11\n",
            "📅 Processing mask for 2023-06-21\n",
            "✅ DW mask loaded for 2023-06-21\n",
            "📤 Exporting EVI_datacube_2023-06-01_2023-06-30 to gs://gchm-predictions-test/rasterdiv_map/EVI_datacube_2023-06-01_2023-06-30...\n",
            "✅ Export of EVI_datacube_2023-06-01_2023-06-30 completed to gs://gchm-predictions-test/rasterdiv_map/EVI_datacube_2023-06-01_2023-06-30.\n",
            "✅ Exported DataCube as EVI_datacube_2023-06-01_2023-06-30\n",
            "📂 Checking for DataCube TIFF in Google Cloud Storage...\n",
            "✅ Found 1 TIFF files. Processing entropy...\n",
            "✅ Downloaded DataCube to /tmp/EVI_datacube_2023-06-01_2023-06-30.tif\n",
            "📅 Processing time step 1 - 2023-06-01\n",
            "✅ Applied DLC mask for 2023-06-01\n",
            "📅 Processing time step 2 - 2023-06-11\n",
            "✅ Applied DLC mask for 2023-06-11\n",
            "📅 Processing time step 3 - 2023-06-21\n",
            "✅ Applied DLC mask for 2023-06-21\n",
            "🧠 Computing 3D window-based entropy...\n",
            "🧠 Computing temporal entropy...\n",
            "✅ Saved Entropy DataCube as /tmp/renyi_2_EVI_AoI_France_2023-06-01_2023-06-30_w3.tif\n",
            "✅ Uploaded to gs://gchm-predictions-test/entropy/\n",
            "✅ Image moved from gs://gchm-predictions-test/rasterdiv_map/EVI_datacube_2023-06-01_2023-06-30.tif to gs://gchm-predictions-test/entropy/EVI_datacube_2023-06-01_2023-06-30.tif\n",
            "🎉 Entropy Processing Complete!\n"
          ]
        }
      ]
    },
    {
      "cell_type": "code",
      "source": [],
      "metadata": {
        "id": "qcmIPDOXVl6f"
      },
      "execution_count": null,
      "outputs": []
    }
  ]
}