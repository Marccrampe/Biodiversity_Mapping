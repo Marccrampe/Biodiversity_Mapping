{
  "nbformat": 4,
  "nbformat_minor": 0,
  "metadata": {
    "colab": {
      "provenance": [],
      "authorship_tag": "ABX9TyNBScwR1X6FHeQlh1z05qVC",
      "include_colab_link": true
    },
    "kernelspec": {
      "name": "python3",
      "display_name": "Python 3"
    },
    "language_info": {
      "name": "python"
    }
  },
  "cells": [
    {
      "cell_type": "markdown",
      "metadata": {
        "id": "view-in-github",
        "colab_type": "text"
      },
      "source": [
        "<a href=\"https://colab.research.google.com/github/Marccrampe/Biodiversity_Mapping/blob/main/EE_package_Zeek_Emett.ipynb\" target=\"_parent\"><img src=\"https://colab.research.google.com/assets/colab-badge.svg\" alt=\"Open In Colab\"/></a>"
      ]
    },
    {
      "cell_type": "code",
      "source": [
        "from google.colab import drive\n",
        "drive.mount('/content/drive')"
      ],
      "metadata": {
        "id": "y9iDexcN2WTq"
      },
      "execution_count": null,
      "outputs": []
    },
    {
      "cell_type": "code",
      "source": [
        "!pip install rasterio"
      ],
      "metadata": {
        "colab": {
          "base_uri": "https://localhost:8080/"
        },
        "id": "pdPt-y-xktJG",
        "outputId": "dd8a7d2a-c8d4-4128-e7f2-8c42e83d2140"
      },
      "execution_count": 7,
      "outputs": [
        {
          "output_type": "stream",
          "name": "stdout",
          "text": [
            "Collecting rasterio\n",
            "  Downloading rasterio-1.4.3-cp311-cp311-manylinux_2_17_x86_64.manylinux2014_x86_64.whl.metadata (9.1 kB)\n",
            "Collecting affine (from rasterio)\n",
            "  Downloading affine-2.4.0-py3-none-any.whl.metadata (4.0 kB)\n",
            "Requirement already satisfied: attrs in /usr/local/lib/python3.11/dist-packages (from rasterio) (25.3.0)\n",
            "Requirement already satisfied: certifi in /usr/local/lib/python3.11/dist-packages (from rasterio) (2025.1.31)\n",
            "Requirement already satisfied: click>=4.0 in /usr/local/lib/python3.11/dist-packages (from rasterio) (8.1.8)\n",
            "Collecting cligj>=0.5 (from rasterio)\n",
            "  Downloading cligj-0.7.2-py3-none-any.whl.metadata (5.0 kB)\n",
            "Requirement already satisfied: numpy>=1.24 in /usr/local/lib/python3.11/dist-packages (from rasterio) (2.0.2)\n",
            "Collecting click-plugins (from rasterio)\n",
            "  Downloading click_plugins-1.1.1-py2.py3-none-any.whl.metadata (6.4 kB)\n",
            "Requirement already satisfied: pyparsing in /usr/local/lib/python3.11/dist-packages (from rasterio) (3.2.1)\n",
            "Downloading rasterio-1.4.3-cp311-cp311-manylinux_2_17_x86_64.manylinux2014_x86_64.whl (22.2 MB)\n",
            "\u001b[2K   \u001b[90m━━━━━━━━━━━━━━━━━━━━━━━━━━━━━━━━━━━━━━━━\u001b[0m \u001b[32m22.2/22.2 MB\u001b[0m \u001b[31m31.4 MB/s\u001b[0m eta \u001b[36m0:00:00\u001b[0m\n",
            "\u001b[?25hDownloading cligj-0.7.2-py3-none-any.whl (7.1 kB)\n",
            "Downloading affine-2.4.0-py3-none-any.whl (15 kB)\n",
            "Downloading click_plugins-1.1.1-py2.py3-none-any.whl (7.5 kB)\n",
            "Installing collected packages: cligj, click-plugins, affine, rasterio\n",
            "Successfully installed affine-2.4.0 click-plugins-1.1.1 cligj-0.7.2 rasterio-1.4.3\n"
          ]
        }
      ]
    },
    {
      "cell_type": "code",
      "source": [
        "import ee\n",
        "import google.auth\n",
        "from google.colab import auth\n",
        "from google.cloud import storage\n",
        "\n",
        "# Authentification\n",
        "auth.authenticate_user()\n",
        "\n",
        "# Charger les credentials\n",
        "credentials, project = google.auth.default()\n",
        "\n",
        "# Configurer Google Cloud Storage\n",
        "client = storage.Client(credentials=credentials, project=project)\n"
      ],
      "metadata": {
        "id": "iXk8z-UqjS84"
      },
      "execution_count": 34,
      "outputs": []
    },
    {
      "cell_type": "code",
      "source": [
        "!python3 /content/main.py \\\n"
      ],
      "metadata": {
        "colab": {
          "base_uri": "https://localhost:8080/"
        },
        "id": "Krd37Csn3Nvj",
        "outputId": "8c8f7a13-5093-4840-8b54-57907e13b0fa"
      },
      "execution_count": 36,
      "outputs": [
        {
          "output_type": "stream",
          "name": "stdout",
          "text": [
            "ESA mask successfully loaded.\n",
            "[2023-06-01] DW mask generated.\n",
            "[2023-06-30] DW mask generated.\n",
            "📤 Exporting AOI_AoI_Florida_2023-06-01 to gs://gchm-predictions-test/rasterdiv_data/AOI_AoI_Florida_2023-06-01...\n",
            "📤 Exporting AOI_AoI_Florida_2023-06-01 to gs://gchm-predictions-test/rasterdiv_data/AOI_AoI_Florida_2023-06-01...\n",
            "✅ Export of AOI_AoI_Florida_2023-06-01 completed to gs://gchm-predictions-test/rasterdiv_data/AOI_AoI_Florida_2023-06-01.\n",
            "✅ Image for 2023-06-01 exported to gs://gchm-predictions-test/Rasterdiv_data/AOI_AoI_Florida_2023-06-01.tif\n",
            "📤 Exporting AOI_AoI_Florida_2023-06-11 to gs://gchm-predictions-test/rasterdiv_data/AOI_AoI_Florida_2023-06-11...\n",
            "📤 Exporting AOI_AoI_Florida_2023-06-11 to gs://gchm-predictions-test/rasterdiv_data/AOI_AoI_Florida_2023-06-11...\n",
            "✅ Export of AOI_AoI_Florida_2023-06-11 completed to gs://gchm-predictions-test/rasterdiv_data/AOI_AoI_Florida_2023-06-11.\n",
            "✅ Image for 2023-06-11 exported to gs://gchm-predictions-test/Rasterdiv_data/AOI_AoI_Florida_2023-06-11.tif\n",
            "📤 Exporting AOI_AoI_Florida_2023-06-21 to gs://gchm-predictions-test/rasterdiv_data/AOI_AoI_Florida_2023-06-21...\n",
            "📤 Exporting AOI_AoI_Florida_2023-06-21 to gs://gchm-predictions-test/rasterdiv_data/AOI_AoI_Florida_2023-06-21...\n",
            "📤 Exporting AOI_AoI_Florida_2023-06-21 to gs://gchm-predictions-test/rasterdiv_data/AOI_AoI_Florida_2023-06-21...\n",
            "✅ Export of AOI_AoI_Florida_2023-06-21 completed to gs://gchm-predictions-test/rasterdiv_data/AOI_AoI_Florida_2023-06-21.\n",
            "✅ Image for 2023-06-21 exported to gs://gchm-predictions-test/Rasterdiv_data/AOI_AoI_Florida_2023-06-21.tif\n",
            "🔄 Downloading and processing: AOI_AoI_Florida_2023-06-01.tif\n",
            "✅ Raster downloaded from GCS: /tmp/AOI_AoI_Florida_2023-06-01.tif\n",
            "📊 Raster AOI_AoI_Florida_2023-06-01.tif - Shape: (8, 1083, 1084), Min: -1.0, Max: 10499.0\n",
            "✅ Image moved from gs://gchm-predictions-test/rasterdiv_data/AOI_AoI_Florida_2023-06-01.tif to gs://gchm-predictions-test/rasterdiv_map/AOI_AoI_Florida_2023-06-01.tif\n",
            "🔄 Downloading and processing: AOI_AoI_Florida_2023-06-11.tif\n",
            "✅ Raster downloaded from GCS: /tmp/AOI_AoI_Florida_2023-06-11.tif\n",
            "📊 Raster AOI_AoI_Florida_2023-06-11.tif - Shape: (8, 1083, 1084), Min: -1.0, Max: 10499.0\n",
            "✅ Image moved from gs://gchm-predictions-test/rasterdiv_data/AOI_AoI_Florida_2023-06-11.tif to gs://gchm-predictions-test/rasterdiv_map/AOI_AoI_Florida_2023-06-11.tif\n",
            "🔄 Downloading and processing: AOI_AoI_Florida_2023-06-21.tif\n",
            "✅ Raster downloaded from GCS: /tmp/AOI_AoI_Florida_2023-06-21.tif\n",
            "📊 Raster AOI_AoI_Florida_2023-06-21.tif - Shape: (8, 1083, 1084), Min: -1.0, Max: 9720.0\n",
            "✅ Image moved from gs://gchm-predictions-test/rasterdiv_data/AOI_AoI_Florida_2023-06-21.tif to gs://gchm-predictions-test/rasterdiv_map/AOI_AoI_Florida_2023-06-21.tif\n",
            "🎉 Processing complete!\n"
          ]
        }
      ]
    }
  ]
}